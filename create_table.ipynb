{
 "cells": [
  {
   "cell_type": "markdown",
   "id": "8056ed1f",
   "metadata": {},
   "source": [
    "### Import the library \n",
    "Note: An error might popup after this command has exectuted. If it does read it careful before ignoring. "
   ]
  },
  {
   "cell_type": "code",
   "execution_count": 2,
   "id": "15dc77d3",
   "metadata": {},
   "outputs": [],
   "source": [
    "import psycopg2"
   ]
  },
  {
   "cell_type": "markdown",
   "id": "c71fda05",
   "metadata": {},
   "source": [
    "### Create a connection to the database"
   ]
  },
  {
   "cell_type": "code",
   "execution_count": 3,
   "id": "32fe5f9a",
   "metadata": {},
   "outputs": [],
   "source": [
    "try: \n",
    "    conn = psycopg2.connect(\"host=127.0.0.1 dbname=sparkifydb user=student password=student\")\n",
    "except psycopg2.Error as e: \n",
    "    print(\"Error: Could not make connection to the Postgres database\")\n",
    "    print(e)"
   ]
  },
  {
   "cell_type": "markdown",
   "id": "e37127aa",
   "metadata": {},
   "source": [
    "### Next use that connect to get a cursor that we will use to execute queries."
   ]
  },
  {
   "cell_type": "code",
   "execution_count": 4,
   "id": "8c21e204",
   "metadata": {},
   "outputs": [],
   "source": [
    "try: \n",
    "    cur = conn.cursor()\n",
    "except psycopg2.Error as e: \n",
    "    print(\"Error: Could not get cursor to the Database\")\n",
    "    print(e)"
   ]
  },
  {
   "cell_type": "markdown",
   "id": "8b8e573f",
   "metadata": {},
   "source": [
    "#### For this project we will use automactic commit so that each action is commited without having to call conn.commit() after each command. The ability to rollback and commit transactions is a feature of Relational Databases. "
   ]
  },
  {
   "cell_type": "code",
   "execution_count": 5,
   "id": "56d21fa9",
   "metadata": {},
   "outputs": [],
   "source": [
    "conn.set_session(autocommit=True)"
   ]
  },
  {
   "cell_type": "markdown",
   "id": "57155c97",
   "metadata": {},
   "source": [
    "# DROP TABLES"
   ]
  },
  {
   "cell_type": "code",
   "execution_count": 7,
   "id": "b3390b13",
   "metadata": {},
   "outputs": [],
   "source": [
    "try: \n",
    "    cur.execute(\"DROP TABLE IF EXISTS songplays;\")\n",
    "    cur.execute(\"DROP TABLE IF EXISTS users;\")\n",
    "    cur.execute(\"DROP TABLE IF EXISTS songs;\")\n",
    "    cur.execute(\"DROP TABLE IF EXISTS artists;\")\n",
    "    cur.execute(\"DROP TABLE IF EXISTS time;\")\n",
    "\n",
    "except psycopg2.Error as e: \n",
    "    print(\"Error: Issue creating table\")\n",
    "    print (e)"
   ]
  },
  {
   "cell_type": "markdown",
   "id": "4760185d",
   "metadata": {},
   "source": [
    "## Schema for Song Play Analysis\n",
    "\n",
    "Using the song and log datasets, I'll create a star schema optimized for queries\n",
    "on song play analysis. This includes the following tables.\n",
    "\n",
    "<a id=\"fact\"></a>\n",
    "\n",
    "### Fact Table\n",
    "\n",
    "1. **songplays** - records in log data associated with song plays, i.e., records with\n",
    "  page `NextSong`\n",
    "    - *songplay_id, start_time, user_id, level, song_id, artist_id, session_id,\n",
    "      location, user_agent*\n",
    "\n",
    "<a id=\"dim\"></a>\n",
    "\n",
    "### Dimension Tables\n",
    "\n",
    "2. **users** - Following information about users:\n",
    "    - *user_id, first_name, last_name, gender, level*\n",
    "\n",
    "3. **songs** - Following info about songs:\n",
    "    - *song_id, title, artist_id, year, duration*\n",
    "\n",
    "4. **artists** - Artists information:\n",
    "    - *artist_id, name, location, latitude, longitude*\n",
    "\n",
    "5. **time** - timestamps of records in **songplays** broken down into specific units\n",
    "    - *start_time, hour, day, week, month, year, weekday*\n",
    "    \n",
    "<img src=\"images/data-modeling-dbdiagram.png\" width=\"500\" height=\"500\">\n",
    "\n",
    "In order to create these tables, all we need to do is perform some transformation in the data which are already in song_data and log_data directory.\n",
    "\n",
    "<a id='p_song'></a>"
   ]
  },
  {
   "cell_type": "markdown",
   "id": "964c0492",
   "metadata": {},
   "source": [
    "### Create Fact Table songplays"
   ]
  },
  {
   "cell_type": "code",
   "execution_count": 8,
   "id": "185f3e68",
   "metadata": {},
   "outputs": [],
   "source": [
    "try: \n",
    "    cur.execute(\"\"\"\n",
    "    \n",
    "    CREATE TABLE IF NOT EXISTS songplays (\n",
    "    songplay_id SERIAL PRIMARY KEY,\n",
    "    start_time bigint NOT NULL,\n",
    "    user_id int NOT NULL,\n",
    "    level varchar,\n",
    "    song_id varchar,\n",
    "    artist_id varchar,\n",
    "    session_id int,\n",
    "    location varchar,\n",
    "    user_agent varchar\n",
    "    );\n",
    "    \"\"\")\n",
    "    \n",
    "except psycopg2.Error as e: \n",
    "    print(\"Error: Issue creating table\")\n",
    "    print (e)"
   ]
  },
  {
   "cell_type": "markdown",
   "id": "878d0032",
   "metadata": {},
   "source": [
    "### Create Dim Table users"
   ]
  },
  {
   "cell_type": "code",
   "execution_count": 9,
   "id": "3800137a",
   "metadata": {},
   "outputs": [],
   "source": [
    "try: \n",
    "    cur.execute(\"\"\"\n",
    "    \n",
    "    CREATE TABLE IF NOT EXISTS users (\n",
    "    user_id int PRIMARY KEY,\n",
    "    first_name varchar,\n",
    "    last_name varchar,\n",
    "    gender varchar,\n",
    "    level varchar\n",
    ");\n",
    "\"\"\")\n",
    "    \n",
    "except psycopg2.Error as e: \n",
    "    print(\"Error: Issue creating table\")\n",
    "    print (e)"
   ]
  },
  {
   "cell_type": "markdown",
   "id": "8c660962",
   "metadata": {},
   "source": [
    "### Create Dim Table songs"
   ]
  },
  {
   "cell_type": "code",
   "execution_count": 10,
   "id": "d31aed47",
   "metadata": {},
   "outputs": [],
   "source": [
    "try: \n",
    "    cur.execute(\"\"\"\n",
    "    \n",
    "    CREATE TABLE IF NOT EXISTS songs (\n",
    "    song_id varchar PRIMARY KEY,\n",
    "    title varchar,\n",
    "    artist_id varchar,\n",
    "    year int,\n",
    "    duration numeric\n",
    ");\n",
    "\"\"\")\n",
    "    \n",
    "except psycopg2.Error as e: \n",
    "    print(\"Error: Issue creating table\")\n",
    "    print (e)"
   ]
  },
  {
   "cell_type": "markdown",
   "id": "0711d693",
   "metadata": {},
   "source": [
    "### Create Dim Table artists"
   ]
  },
  {
   "cell_type": "code",
   "execution_count": 11,
   "id": "b2a1c1cd",
   "metadata": {},
   "outputs": [],
   "source": [
    "try: \n",
    "    cur.execute(\"\"\"\n",
    "    \n",
    "    CREATE TABLE IF NOT EXISTS artists (\n",
    "    artist_id varchar PRIMARY KEY,\n",
    "    name varchar,\n",
    "    location varchar,\n",
    "    latitude float(7),\n",
    "    longitude float(7)\n",
    ");\n",
    "\"\"\")\n",
    "    \n",
    "except psycopg2.Error as e: \n",
    "    print(\"Error: Issue creating table\")\n",
    "    print (e)"
   ]
  },
  {
   "cell_type": "markdown",
   "id": "aaef61c2",
   "metadata": {},
   "source": [
    "### Create Dim Table time"
   ]
  },
  {
   "cell_type": "code",
   "execution_count": 12,
   "id": "34adecb0",
   "metadata": {},
   "outputs": [],
   "source": [
    "try: \n",
    "    cur.execute(\"\"\"\n",
    "    \n",
    "    CREATE TABLE IF NOT EXISTS time (\n",
    "    start_time bigint PRIMARY KEY,\n",
    "    hour int,\n",
    "    day int,\n",
    "    week int,\n",
    "    month int,\n",
    "    year int,\n",
    "    weekday int\n",
    ");\n",
    "\"\"\")\n",
    "    \n",
    "except psycopg2.Error as e: \n",
    "    print(\"Error: Issue creating table\")\n",
    "    print (e)"
   ]
  },
  {
   "cell_type": "markdown",
   "id": "5dfe85bb",
   "metadata": {},
   "source": [
    "# INSERT RECORDS"
   ]
  },
  {
   "cell_type": "markdown",
   "id": "f2504ac7",
   "metadata": {},
   "source": [
    "## Process Song Data\n",
    "\n",
    "Perform ETL on the files in *song_data* directory to create two dimensional tables: `songs` table and `artists` table.\n",
    "\n",
    "This is what a songs file looks like:\n",
    "\n",
    "<pre>\n",
    "{\"num_songs\": 1, \"artist_id\": \"ARD7TVE1187B99BFB1\", \"artist_latitude\": null, \"artist_longitude\": null, \"artist_location\": \"California - LA\", \"artist_name\": \"Casual\", \"song_id\": \"SOMZWCG12A8C13C480\", \"title\": \"I Didn't Mean To\", \"duration\": 218.93179, \"year\": 0}\n",
    "</pre>\n",
    "\n",
    "For songs table, we'll extract data for songs table by using only the columns corresponding to the songs table suggested in the star schema above. Similarly, we'll select the appropriate columns for artists table.\n",
    "\n",
    "```python\n",
    "song_data = df[[\"song_id\", \"title\", \"artist_id\", \"year\", \"duration\"]].values[0]\n",
    "song_data\n",
    "# Looks like this\n",
    "# array(['SONHOTT12A8C13493C', 'Something Girls', 'AR7G5I41187FB4CE6C', 1982, 233.40363], dtype=object)\n",
    "\n",
    "artist_data = df[[\"artist_id\", \"artist_name\", \"artist_location\", \"artist_latitude\", \"artist_longitude\"]].values[0]\n",
    "artist_data\n",
    "# Looks like this\n",
    "# array(['AR7G5I41187FB4CE6C', 'Adam Ant', 'London, England', nan, nan], dtype=object)\n",
    "```"
   ]
  },
  {
   "cell_type": "code",
   "execution_count": null,
   "id": "28c89e08",
   "metadata": {},
   "outputs": [],
   "source": []
  }
 ],
 "metadata": {
  "kernelspec": {
   "display_name": "Python 3.9.12 ('venv': venv)",
   "language": "python",
   "name": "python3"
  },
  "language_info": {
   "codemirror_mode": {
    "name": "ipython",
    "version": 3
   },
   "file_extension": ".py",
   "mimetype": "text/x-python",
   "name": "python",
   "nbconvert_exporter": "python",
   "pygments_lexer": "ipython3",
   "version": "3.9.12"
  },
  "vscode": {
   "interpreter": {
    "hash": "fca22a54ce9ec67e00fc7797e05c4de1b88ec79f26f18e015e1fb20eaee92923"
   }
  }
 },
 "nbformat": 4,
 "nbformat_minor": 5
}
